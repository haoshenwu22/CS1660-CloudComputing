{
 "cells": [
  {
   "cell_type": "code",
   "execution_count": null,
   "metadata": {},
   "outputs": [],
   "source": [
    "from google.cloud import firestore\n",
    "from google.oauth2 import service_account\n",
    "\n",
    "# import firebase_admin\n",
    "# default_app = firebase_admin.initialize_app()\n",
    "# Path to your service account JSON file\n",
    "SERVICE_ACCOUNT_FILE = \"./serviceAccountKey.json\"\n",
    "\n",
    "# Initialize Firestore client with specific database\n",
    "credentials = service_account.Credentials.from_service_account_file(SERVICE_ACCOUNT_FILE)\n",
    "db = firestore.Client(project=\"endless-bounty-433922\", database=\"final-project-db\", credentials=credentials)"
   ]
  },
  {
   "cell_type": "code",
   "execution_count": 5,
   "metadata": {},
   "outputs": [
    {
     "name": "stderr",
     "output_type": "stream",
     "text": [
      "c:\\Users\\Alan\\Documents\\GitHub\\CS1660-CloudComputing\\.myenv\\Lib\\site-packages\\google\\cloud\\firestore_v1\\base_collection.py:304: UserWarning: Detected filter using positional arguments. Prefer using the 'filter' keyword argument instead.\n",
      "  return query.where(field_path, op_string, value)\n"
     ]
    },
    {
     "name": "stdout",
     "output_type": "stream",
     "text": [
      "Query Results:\n",
      "Error querying Firestore: 403 Permission denied on resource project endless-bounty-433922. [links {\n",
      "  description: \"Google developer console API key\"\n",
      "  url: \"https://console.developers.google.com/project/endless-bounty-433922/apiui/credential\"\n",
      "}\n",
      ", reason: \"CONSUMER_INVALID\"\n",
      "domain: \"googleapis.com\"\n",
      "metadata {\n",
      "  key: \"service\"\n",
      "  value: \"firestore.googleapis.com\"\n",
      "}\n",
      "metadata {\n",
      "  key: \"consumer\"\n",
      "  value: \"projects/endless-bounty-433922\"\n",
      "}\n",
      "]\n"
     ]
    }
   ],
   "source": [
    "def query_menu_items():\n",
    "    try:\n",
    "        # Reference the 'MenuItems' collection\n",
    "        menu_ref = db.collection(\"MenuItems\")\n",
    "        # Query for items where 'name' is 'Burger'\n",
    "        docs = menu_ref.where(\"name\", \"==\", \"Burger\").stream() \n",
    "        print(\"Query Results:\")\n",
    "        for doc in docs:\n",
    "            print(f\"{doc.id} => {doc.to_dict()}\")\n",
    "\n",
    "    except Exception as e:\n",
    "        print(f\"Error querying Firestore: {e}\")\n",
    "\n",
    "# Run the query function\n",
    "query_menu_items()\n"
   ]
  },
  {
   "cell_type": "code",
   "execution_count": null,
   "metadata": {},
   "outputs": [],
   "source": []
  }
 ],
 "metadata": {
  "kernelspec": {
   "display_name": ".myenv",
   "language": "python",
   "name": "python3"
  },
  "language_info": {
   "codemirror_mode": {
    "name": "ipython",
    "version": 3
   },
   "file_extension": ".py",
   "mimetype": "text/x-python",
   "name": "python",
   "nbconvert_exporter": "python",
   "pygments_lexer": "ipython3",
   "version": "3.12.1"
  }
 },
 "nbformat": 4,
 "nbformat_minor": 2
}
