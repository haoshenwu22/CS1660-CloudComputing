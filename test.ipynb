{
 "cells": [
  {
   "cell_type": "code",
   "execution_count": 4,
   "metadata": {},
   "outputs": [],
   "source": [
    "from google.cloud import firestore\n",
    "from google.oauth2 import service_account\n",
    "\n",
    "# import firebase_admin\n",
    "# default_app = firebase_admin.initialize_app()\n",
    "# Path to your service account JSON file\n",
    "SERVICE_ACCOUNT_FILE = \"./serviceAccountKey.json\"\n",
    "\n",
    "# Initialize Firestore client with specific database\n",
    "credentials = service_account.Credentials.from_service_account_file(SERVICE_ACCOUNT_FILE)\n",
    "db = firestore.Client(project=\"endless-bounty-433922-g4\", database=\"final-project-db\", credentials=credentials)"
   ]
  },
  {
   "cell_type": "code",
   "execution_count": 5,
   "metadata": {},
   "outputs": [
    {
     "name": "stdout",
     "output_type": "stream",
     "text": [
      "Query Results:\n",
      "menu1 => {'availability': True, 'description': 'This is a description', 'price': 9.99, 'name': 'Burger'}\n"
     ]
    }
   ],
   "source": [
    "def query_menu_items():\n",
    "    try:\n",
    "        # Reference the 'MenuItems' collection\n",
    "        menu_ref = db.collection(\"MenuItems\")\n",
    "        # Query for items where 'name' is 'Burger'\n",
    "        docs = menu_ref.where(\"name\", \"==\", \"Burger\").stream() \n",
    "        print(\"Query Results:\")\n",
    "        for doc in docs:\n",
    "            print(f\"{doc.id} => {doc.to_dict()}\")\n",
    "\n",
    "    except Exception as e:\n",
    "        print(f\"Error querying Firestore: {e}\")\n",
    "\n",
    "# Run the query function\n",
    "query_menu_items()\n"
   ]
  },
  {
   "cell_type": "code",
   "execution_count": 16,
   "metadata": {},
   "outputs": [
    {
     "name": "stdout",
     "output_type": "stream",
     "text": [
      "Sample data added to MenuItems collection.\n"
     ]
    }
   ],
   "source": [
    "# Adding more data to MenuItems collection\n",
    "def add_menu_items():\n",
    "    items = [\n",
    "        {\"name\": \"Pizza\", \"description\": \"Delicious cheese pizza\", \"price\": 12.99, \"availability\": True},\n",
    "        {\"name\": \"Pasta\", \"description\": \"Creamy Alfredo pasta\", \"price\": 11.49, \"availability\": True},\n",
    "        {\"name\": \"Salad\", \"description\": \"Fresh garden salad\", \"price\": 7.99, \"availability\": True}\n",
    "    ]\n",
    "    for i, item in enumerate(items, start=1):\n",
    "        doc_ref = db.collection(\"MenuItems\").document(f\"menu{i}\")\n",
    "        doc_ref.set(item)\n",
    "    print(\"Sample data added to MenuItems collection.\")\n",
    "\n",
    "# Add the sample data\n",
    "add_menu_items()\n"
   ]
  },
  {
   "cell_type": "code",
   "execution_count": 12,
   "metadata": {},
   "outputs": [
    {
     "name": "stdout",
     "output_type": "stream",
     "text": [
      "Menu item 'menu1' updated successfully.\n"
     ]
    }
   ],
   "source": [
    "def update_menu_item(menu_id, fields_to_update):\n",
    "    \"\"\"\n",
    "    Update specific fields of a menu item in the MenuItems collection.\n",
    "\n",
    "    :param menu_id: The ID of the menu item to update.\n",
    "    :param fields_to_update: A dictionary containing the fields and their new values.\n",
    "    \"\"\"\n",
    "    try:\n",
    "        doc_ref = db.collection(\"MenuItems\").document(menu_id)\n",
    "        doc_ref.update(fields_to_update)\n",
    "        print(f\"Menu item '{menu_id}' updated successfully.\")\n",
    "    except Exception as e:\n",
    "        print(f\"Error updating menu item '{menu_id}': {e}\")\n",
    "\n",
    "# Example usage\n",
    "update_menu_item(\"menu1\", {\"price\": 12.99, \"availability\": False})\n"
   ]
  },
  {
   "cell_type": "code",
   "execution_count": 17,
   "metadata": {},
   "outputs": [
    {
     "name": "stdout",
     "output_type": "stream",
     "text": [
      "Menu item 'menu4' deleted successfully.\n"
     ]
    }
   ],
   "source": [
    "def delete_menu_item(menu_id):\n",
    "    \"\"\"\n",
    "    Delete a menu item from the MenuItems collection.\n",
    "\n",
    "    :param menu_id: The ID of the menu item to delete.\n",
    "    \"\"\"\n",
    "    try:\n",
    "        doc_ref = db.collection(\"MenuItems\").document(menu_id)\n",
    "        doc_ref.delete()\n",
    "        print(f\"Menu item '{menu_id}' deleted successfully.\")\n",
    "    except Exception as e:\n",
    "        print(f\"Error deleting menu item '{menu_id}': {e}\")\n",
    "\n",
    "# Example usage\n",
    "delete_menu_item(\"menu4\")\n"
   ]
  },
  {
   "cell_type": "code",
   "execution_count": null,
   "metadata": {},
   "outputs": [
    {
     "name": "stdout",
     "output_type": "stream",
     "text": [
      "Order placed successfully!\n"
     ]
    }
   ],
   "source": [
    "def place_order(table_id, items):\n",
    "    try:\n",
    "        doc_ref = db.collection(\"Orders\").document()\n",
    "        order_data = {\n",
    "            \"table_id\": table_id,\n",
    "            \"items\": items,\n",
    "            \"status\": \"Pending\",\n",
    "            \"timestamp\": firestore.SERVER_TIMESTAMP\n",
    "        }\n",
    "        doc_ref.set(order_data)\n",
    "        print(\"Order placed successfully!\")\n",
    "    except Exception as e:\n",
    "        print(f\"Error placing order: {e}\")\n",
    "\n",
    "# Example usage\n",
    "place_order(\"table1\", [\"Burger\", \"Fries\"])\n"
   ]
  },
  {
   "cell_type": "code",
   "execution_count": 8,
   "metadata": {},
   "outputs": [
    {
     "name": "stdout",
     "output_type": "stream",
     "text": [
      "Order 0S74p60GF130lbZHhSbi status updated to Preparing.\n"
     ]
    }
   ],
   "source": [
    "def update_order_status(order_id, new_status):\n",
    "    try:\n",
    "        order_ref = db.collection(\"Orders\").document(order_id)\n",
    "        order_ref.update({\"status\": new_status})\n",
    "        print(f\"Order {order_id} status updated to {new_status}.\")\n",
    "    except Exception as e:\n",
    "        print(f\"Error updating order status: {e}\")\n",
    "\n",
    "# Example usage\n",
    "update_order_status(\"0S74p60GF130lbZHhSbi\", \"Preparing\")\n"
   ]
  },
  {
   "cell_type": "code",
   "execution_count": null,
   "metadata": {},
   "outputs": [
    {
     "name": "stdout",
     "output_type": "stream",
     "text": [
      "Orders for table table1:\n",
      "0S74p60GF130lbZHhSbi => {'status': 'Preparing', 'tableID': 'table1', 'items': ['Burger', 'Fries'], 'timestamp': DatetimeWithNanoseconds(2024, 12, 6, 21, 59, 56, 589000, tzinfo=datetime.timezone.utc)}\n"
     ]
    }
   ],
   "source": [
    "def get_orders_by_table(table_id):\n",
    "    try:\n",
    "        orders_ref = db.collection(\"Orders\")\n",
    "        docs = orders_ref.where(\"table_id\", \"==\", table_id).stream()\n",
    "        print(f\"Orders for table {table_id}:\")\n",
    "        for doc in docs:\n",
    "            print(f\"{doc.id} => {doc.to_dict()}\")\n",
    "    except Exception as e:\n",
    "        print(f\"Error fetching orders: {e}\")\n",
    "\n",
    "# Example usage\n",
    "get_orders_by_table(\"table1\")\n"
   ]
  },
  {
   "cell_type": "code",
   "execution_count": 18,
   "metadata": {},
   "outputs": [
    {
     "name": "stdout",
     "output_type": "stream",
     "text": [
      "Menu Items:\n",
      "menu1 => {'availability': True, 'description': 'Delicious cheese pizza', 'price': 12.99, 'name': 'Pizza'}\n",
      "menu2 => {'availability': True, 'description': 'Creamy Alfredo pasta', 'price': 11.49, 'name': 'Pasta'}\n",
      "menu3 => {'availability': True, 'description': 'Fresh garden salad', 'price': 7.99, 'name': 'Salad'}\n"
     ]
    }
   ],
   "source": [
    "def view_menu():\n",
    "    \"\"\"\n",
    "    Fetch and display all menu items in the MenuItems collection.\n",
    "    \"\"\"\n",
    "    try:\n",
    "        menu_ref = db.collection(\"MenuItems\")\n",
    "        docs = menu_ref.stream()\n",
    "        print(\"Menu Items:\")\n",
    "        for doc in docs:\n",
    "            print(f\"{doc.id} => {doc.to_dict()}\")\n",
    "    except Exception as e:\n",
    "        print(f\"Error fetching menu items: {e}\")\n",
    "\n",
    "# Example usage\n",
    "view_menu()\n"
   ]
  },
  {
   "cell_type": "code",
   "execution_count": 19,
   "metadata": {},
   "outputs": [
    {
     "name": "stdout",
     "output_type": "stream",
     "text": [
      "All Orders:\n",
      "0S74p60GF130lbZHhSbi => {'status': 'Preparing', 'tableID': 'table1', 'items': ['Burger', 'Fries'], 'timestamp': DatetimeWithNanoseconds(2024, 12, 6, 21, 59, 56, 589000, tzinfo=datetime.timezone.utc)}\n",
      "order1 => {'status': 'Pending', 'tableID': '1', 'items': ['Burger', 'fries'], 'timestamp': DatetimeWithNanoseconds(2024, 11, 19, 2, 17, 36, 75000, tzinfo=datetime.timezone.utc)}\n"
     ]
    }
   ],
   "source": [
    "def view_all_orders():\n",
    "    \"\"\"\n",
    "    Fetch and display all orders in the Orders collection.\n",
    "    \"\"\"\n",
    "    try:\n",
    "        orders_ref = db.collection(\"Orders\")\n",
    "        docs = orders_ref.stream()\n",
    "        print(\"All Orders:\")\n",
    "        for doc in docs:\n",
    "            print(f\"{doc.id} => {doc.to_dict()}\")\n",
    "    except Exception as e:\n",
    "        print(f\"Error fetching orders: {e}\")\n",
    "\n",
    "# Example usage\n",
    "view_all_orders()\n"
   ]
  },
  {
   "cell_type": "code",
   "execution_count": 20,
   "metadata": {},
   "outputs": [
    {
     "name": "stdout",
     "output_type": "stream",
     "text": [
      "QR code for table1 saved as table1_qr.png.\n",
      "Generated QR Code Data: https://restaurant.com/table1\n"
     ]
    }
   ],
   "source": [
    "import qrcode\n",
    "\n",
    "def generate_qr_code(table_id, base_url=\"https://restaurant.com\"):\n",
    "    \"\"\"\n",
    "    Generate a QR code for a specific table and save it as a PNG file.\n",
    "\n",
    "    :param table_id: Unique identifier for the table (e.g., \"table1\").\n",
    "    :param base_url: Base URL to encode in the QR code.\n",
    "    \"\"\"\n",
    "    try:\n",
    "        # Create the data to encode\n",
    "        qr_code_data = f\"{base_url}/{table_id}\"\n",
    "        \n",
    "        # Generate QR code\n",
    "        qr = qrcode.QRCode(\n",
    "            version=1,\n",
    "            error_correction=qrcode.constants.ERROR_CORRECT_L,\n",
    "            box_size=10,\n",
    "            border=4,\n",
    "        )\n",
    "        qr.add_data(qr_code_data)\n",
    "        qr.make(fit=True)\n",
    "\n",
    "        # Create an image from the QR Code instance\n",
    "        img = qr.make_image(fill_color=\"black\", back_color=\"white\")\n",
    "\n",
    "        # Save the QR code image\n",
    "        file_name = f\"{table_id}_qr.png\"\n",
    "        img.save(file_name)\n",
    "        print(f\"QR code for {table_id} saved as {file_name}.\")\n",
    "\n",
    "        # Return the encoded data for Firestore storage\n",
    "        return qr_code_data\n",
    "\n",
    "    except Exception as e:\n",
    "        print(f\"Error generating QR code for {table_id}: {e}\")\n",
    "\n",
    "# Example usage\n",
    "qr_data = generate_qr_code(\"table1\")\n",
    "print(f\"Generated QR Code Data: {qr_data}\")\n"
   ]
  },
  {
   "cell_type": "code",
   "execution_count": 21,
   "metadata": {},
   "outputs": [
    {
     "name": "stdout",
     "output_type": "stream",
     "text": [
      "Table table1 data stored in Firestore.\n"
     ]
    }
   ],
   "source": [
    "def store_qr_code_in_firestore(table_id, qr_code_data):\n",
    "    \"\"\"\n",
    "    Store the QR code data and table information in the Tables collection.\n",
    "\n",
    "    :param table_id: Unique identifier for the table.\n",
    "    :param qr_code_data: Encoded data in the QR code.\n",
    "    \"\"\"\n",
    "    try:\n",
    "        doc_ref = db.collection(\"Tables\").document(table_id)\n",
    "        table_data = {\n",
    "            \"table_id\": table_id,\n",
    "            \"qr_code_data\": qr_code_data,\n",
    "            \"status\": \"Available\"  # Default status\n",
    "        }\n",
    "        doc_ref.set(table_data)\n",
    "        print(f\"Table {table_id} data stored in Firestore.\")\n",
    "    except Exception as e:\n",
    "        print(f\"Error storing data for {table_id}: {e}\")\n",
    "\n",
    "# Example usage\n",
    "store_qr_code_in_firestore(\"table1\", qr_data)\n"
   ]
  },
  {
   "cell_type": "code",
   "execution_count": 24,
   "metadata": {},
   "outputs": [
    {
     "name": "stdout",
     "output_type": "stream",
     "text": [
      "QR code for table1 saved as table1_qr.png.\n",
      "Table table1 data stored in Firestore.\n",
      "QR code for table2 saved as table2_qr.png.\n",
      "Table table2 data stored in Firestore.\n",
      "QR code for table3 saved as table3_qr.png.\n",
      "Table table3 data stored in Firestore.\n",
      "QR code for table4 saved as table4_qr.png.\n",
      "Table table4 data stored in Firestore.\n",
      "QR code for table5 saved as table5_qr.png.\n",
      "Table table5 data stored in Firestore.\n",
      "QR code for table6 saved as table6_qr.png.\n",
      "Table table6 data stored in Firestore.\n",
      "QR code for table7 saved as table7_qr.png.\n",
      "Table table7 data stored in Firestore.\n",
      "QR code for table8 saved as table8_qr.png.\n",
      "Table table8 data stored in Firestore.\n"
     ]
    }
   ],
   "source": [
    "def generate_and_update_tables(base_url=\"https://restaurant.com\"):\n",
    "    \"\"\"\n",
    "    Generate QR codes for tables 1-8 and update Firestore with their data.\n",
    "\n",
    "    :param base_url: Base URL to encode in the QR code.\n",
    "    \"\"\"\n",
    "    for i in range(1, 9):  # Loop through tables 1 to 8\n",
    "        table_id = f\"table{i}\"\n",
    "        \n",
    "        # Generate the QR code and get the encoded data\n",
    "        qr_code_data = generate_qr_code(table_id, base_url)\n",
    "        \n",
    "        # Update the table data in Firestore\n",
    "        if qr_code_data:\n",
    "            store_qr_code_in_firestore(table_id, qr_code_data)\n",
    "        else:\n",
    "            print(f\"Failed to generate QR code for {table_id}\")\n",
    "\n",
    "# Run the function\n",
    "generate_and_update_tables()"
   ]
  },
  {
   "cell_type": "code",
   "execution_count": 23,
   "metadata": {},
   "outputs": [
    {
     "name": "stdout",
     "output_type": "stream",
     "text": [
      "Table table1 updated with QR code URL.\n"
     ]
    }
   ],
   "source": [
    "def update_table_with_qr_url(table_id, qr_url):\n",
    "    \"\"\"\n",
    "    Update Firestore to include the Cloud Storage URL for the QR code.\n",
    "\n",
    "    :param table_id: ID of the table.\n",
    "    :param qr_url: Public URL of the QR code in Cloud Storage.\n",
    "    \"\"\"\n",
    "    try:\n",
    "        doc_ref = db.collection(\"Tables\").document(table_id)\n",
    "        doc_ref.update({\"qr_code_url\": qr_url})\n",
    "        print(f\"Table {table_id} updated with QR code URL.\")\n",
    "    except Exception as e:\n",
    "        print(f\"Error updating table {table_id}: {e}\")\n",
    "\n",
    "# Example usage\n",
    "update_table_with_qr_url(\"table1\", \"https://storage.googleapis.com/qr-codes-bucket-1660/table1_qr.png\")\n"
   ]
  },
  {
   "cell_type": "code",
   "execution_count": 25,
   "metadata": {},
   "outputs": [
    {
     "name": "stdout",
     "output_type": "stream",
     "text": [
      "Table table1 updated with QR code URL.\n",
      "Table table2 updated with QR code URL.\n",
      "Table table3 updated with QR code URL.\n",
      "Table table4 updated with QR code URL.\n",
      "Table table5 updated with QR code URL.\n",
      "Table table6 updated with QR code URL.\n",
      "Table table7 updated with QR code URL.\n",
      "Table table8 updated with QR code URL.\n"
     ]
    }
   ],
   "source": [
    "def update_all_tables_with_qr_urls(bucket_name=\"qr-codes-bucket-1660\"):\n",
    "    \"\"\"\n",
    "    Update Firestore with the Cloud Storage URLs for QR codes for tables 1-8.\n",
    "\n",
    "    :param bucket_name: Name of the GCP storage bucket where QR codes are stored.\n",
    "    \"\"\"\n",
    "    for i in range(1, 9):  # Loop through table1 to table8\n",
    "        table_id = f\"table{i}\"\n",
    "        qr_url = f\"https://storage.googleapis.com/{bucket_name}/{table_id}_qr.png\"\n",
    "        update_table_with_qr_url(table_id, qr_url)\n",
    "\n",
    "# Run the function\n",
    "update_all_tables_with_qr_urls()\n"
   ]
  },
  {
   "cell_type": "code",
   "execution_count": null,
   "metadata": {},
   "outputs": [],
   "source": []
  }
 ],
 "metadata": {
  "kernelspec": {
   "display_name": ".myenv",
   "language": "python",
   "name": "python3"
  },
  "language_info": {
   "codemirror_mode": {
    "name": "ipython",
    "version": 3
   },
   "file_extension": ".py",
   "mimetype": "text/x-python",
   "name": "python",
   "nbconvert_exporter": "python",
   "pygments_lexer": "ipython3",
   "version": "3.12.1"
  }
 },
 "nbformat": 4,
 "nbformat_minor": 2
}
